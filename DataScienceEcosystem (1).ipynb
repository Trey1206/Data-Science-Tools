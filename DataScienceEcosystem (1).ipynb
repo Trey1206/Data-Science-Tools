{
 "cells": [
  {
   "cell_type": "markdown",
   "id": "1d86bff0-9edb-455d-a116-72ec1932c243",
   "metadata": {},
   "source": [
    "# Data Science Tools and Ecosystem"
   ]
  },
  {
   "cell_type": "markdown",
   "id": "24dfb986-d11c-482b-bdd7-ad58cc37ae30",
   "metadata": {},
   "source": [
    "In this notebook, Data Science Tools  and Ecosystem are summarized"
   ]
  },
  {
   "cell_type": "markdown",
   "id": "c204b05a-3bae-4384-a9d2-b1a25ea032f4",
   "metadata": {},
   "source": [
    "Objectives:\n",
    "\n",
    "- List popular languages used for Data Science\n",
    "- Name some of the popular libraries used by Data Scientists\n",
    "- List commonly used tools used by Data Scientists\n",
    "- Brief intro to simple arithmetic expressions utilizing the python language"
   ]
  },
  {
   "cell_type": "markdown",
   "id": "244e6635-7612-4442-b6e0-e6588c1602df",
   "metadata": {},
   "source": [
    "Some of th popular languages that Data Scientists use are:\n",
    "\n",
    "1. Python\n",
    "2. R\n",
    "3. SQL\n",
    "4. Scala"
   ]
  },
  {
   "cell_type": "markdown",
   "id": "b39c2571-6db4-4fd9-b741-f23796a6ec07",
   "metadata": {},
   "source": [
    "Some of the commonly used libraries used by Data Scientists include:\n",
    "\n",
    "1. Numpy\n",
    "2. Pandas\n",
    "3. Matplotlib\n",
    "4. TensorFlow"
   ]
  },
  {
   "cell_type": "markdown",
   "id": "a48a709e-4e03-4ef1-bc5a-6082fc9d07ca",
   "metadata": {},
   "source": [
    "|Data Science Tools|\n",
    "|----------------- |\n",
    "| Jupyter Notebook |\n",
    "| RStudio |\n",
    "| Visual Studio Code |\n",
    "| Apache Spark |"
   ]
  },
  {
   "cell_type": "markdown",
   "id": "bf5121f1-f5a3-4136-a9bd-7896ad012c6e",
   "metadata": {},
   "source": [
    "### Below are a few examples of evalutating arithmetic expressions in Python"
   ]
  },
  {
   "cell_type": "code",
   "execution_count": 1,
   "id": "6f78a7c1-efd8-4ec3-bbd4-0894691c5a86",
   "metadata": {},
   "outputs": [
    {
     "data": {
      "text/plain": [
       "17"
      ]
     },
     "execution_count": 1,
     "metadata": {},
     "output_type": "execute_result"
    }
   ],
   "source": [
    "# This is simple arithmetic expression to multiply then add integers\n",
    "\n",
    "(3*4)+5"
   ]
  },
  {
   "cell_type": "code",
   "execution_count": 2,
   "id": "f43bffae-7659-40ab-8a0c-4d8a9b5fa29e",
   "metadata": {},
   "outputs": [
    {
     "data": {
      "text/plain": [
       "3.3333333333333335"
      ]
     },
     "execution_count": 2,
     "metadata": {},
     "output_type": "execute_result"
    }
   ],
   "source": [
    "# This will convert 200 minutes to hours by dividing by 60\n",
    "\n",
    "200/60"
   ]
  },
  {
   "cell_type": "markdown",
   "id": "879c6ea5-107a-4371-9bbb-50f4a526e0dd",
   "metadata": {},
   "source": [
    "## Author\n",
    "David W."
   ]
  }
 ],
 "metadata": {
  "kernelspec": {
   "display_name": "Python 3 (ipykernel)",
   "language": "python",
   "name": "python3"
  },
  "language_info": {
   "codemirror_mode": {
    "name": "ipython",
    "version": 3
   },
   "file_extension": ".py",
   "mimetype": "text/x-python",
   "name": "python",
   "nbconvert_exporter": "python",
   "pygments_lexer": "ipython3",
   "version": "3.12.8"
  }
 },
 "nbformat": 4,
 "nbformat_minor": 5
}
